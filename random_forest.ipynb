{
 "cells": [
  {
   "cell_type": "code",
   "execution_count": 24,
   "id": "5c413deb",
   "metadata": {
    "colab": {
     "base_uri": "https://localhost:8080/"
    },
    "id": "5c413deb",
    "outputId": "d2ea94dc-3fa5-4044-ef64-fcf62c975377"
   },
   "outputs": [
    {
     "name": "stderr",
     "output_type": "stream",
     "text": [
      "[nltk_data] Downloading package punkt to\n",
      "[nltk_data]     /Users/chamilkaudugoda/nltk_data...\n",
      "[nltk_data]   Package punkt is already up-to-date!\n",
      "[nltk_data] Downloading package stopwords to\n",
      "[nltk_data]     /Users/chamilkaudugoda/nltk_data...\n",
      "[nltk_data]   Package stopwords is already up-to-date!\n",
      "[nltk_data] Downloading package wordnet to\n",
      "[nltk_data]     /Users/chamilkaudugoda/nltk_data...\n",
      "[nltk_data]   Package wordnet is already up-to-date!\n"
     ]
    }
   ],
   "source": [
    "import nltk\n",
    "import string\n",
    "import pandas as pd\n",
    "import numpy as np\n",
    "\n",
    "from nltk.tokenize import TreebankWordTokenizer\n",
    "from nltk.corpus import stopwords\n",
    "from nltk.stem import WordNetLemmatizer\n",
    "from sklearn.feature_extraction.text import TfidfVectorizer, CountVectorizer\n",
    "from sklearn.feature_selection import mutual_info_classif, chi2, SelectKBest\n",
    "from sklearn.model_selection import cross_val_score, StratifiedKFold\n",
    "from sklearn.preprocessing import LabelEncoder\n",
    "from sklearn.svm import SVC\n",
    "from sklearn.feature_selection import mutual_info_classif, SelectKBest\n",
    "from sklearn.model_selection import train_test_split\n",
    "from sklearn.preprocessing import LabelEncoder\n",
    "from scipy.stats import pearsonr\n",
    "from scipy.sparse import csr_matrix\n",
    "\n",
    "nltk.download('punkt')\n",
    "nltk.download('stopwords')\n",
    "nltk.download('wordnet')\n",
    "\n",
    "tokenizer = TreebankWordTokenizer()\n",
    "lemmatizer = WordNetLemmatizer()\n",
    "stop_words = set(stopwords.words('english'))\n",
    "tfidf_vectorizer = TfidfVectorizer(ngram_range=(1, 2))\n",
    "count_vectorizer = CountVectorizer()\n",
    "label_encoder = LabelEncoder()"
   ]
  },
  {
   "cell_type": "code",
   "execution_count": 25,
   "id": "i_0_4JG17Aho",
   "metadata": {
    "id": "i_0_4JG17Aho"
   },
   "outputs": [],
   "source": [
    "from sklearn.model_selection import RandomizedSearchCV\n",
    "from sklearn.svm import SVC\n",
    "from sklearn.ensemble import RandomForestClassifier\n",
    "from scipy.stats import uniform, randint\n",
    "from sklearn.metrics import classification_report, accuracy_score, make_scorer, f1_score, balanced_accuracy_score\n",
    "import joblib\n",
    "from scipy.sparse import csr_matrix"
   ]
  },
  {
   "cell_type": "code",
   "execution_count": 34,
   "id": "d37dbd30",
   "metadata": {
    "id": "d37dbd30"
   },
   "outputs": [],
   "source": [
    "df = pd.read_csv('/Users/chamilkaudugoda/Documents/Master of Business Analytics/Module 3/Text Analytics for Business/Project/labelled_newscatcher_dataset.csv', delimiter=';')\n",
    "corpus = list(df['title'])\n",
    "labels = list(df['topic'])\n",
    "y = label_encoder.fit_transform(labels)\n"
   ]
  },
  {
   "cell_type": "markdown",
   "id": "f4d112f0",
   "metadata": {
    "id": "f4d112f0"
   },
   "source": [
    "# Data Pre-processing"
   ]
  },
  {
   "cell_type": "code",
   "execution_count": 35,
   "id": "ca27b9ed",
   "metadata": {
    "colab": {
     "base_uri": "https://localhost:8080/"
    },
    "id": "ca27b9ed",
    "outputId": "cc53338b-3458-40a9-bf12-feb89597f1d1"
   },
   "outputs": [
    {
     "name": "stdout",
     "output_type": "stream",
     "text": [
      "Unique labels: [0 1 2 3 4 5 6 7]\n"
     ]
    }
   ],
   "source": [
    "def preprocess_text(text):\n",
    "    tokens = tokenizer.tokenize(text)\n",
    "    tokens = [word.lower() for word in tokens if word not in string.punctuation]\n",
    "    tokens = [word for word in tokens if word not in stop_words]\n",
    "    tokens = [lemmatizer.lemmatize(word) for word in tokens]\n",
    "    return ' '.join(tokens)\n",
    "\n",
    "corpus_norm = [preprocess_text(title) for title in corpus]\n",
    "\n",
    "X_train, X_test, y_train, y_test = train_test_split(corpus_norm, y, train_size=0.7, random_state=42)\n",
    "print(f'Unique labels: {np.unique(y_train)}')"
   ]
  },
  {
   "cell_type": "markdown",
   "id": "0a869081",
   "metadata": {
    "id": "0a869081"
   },
   "source": [
    "# Feature Extraction"
   ]
  },
  {
   "cell_type": "code",
   "execution_count": 16,
   "id": "639b5b3a",
   "metadata": {
    "colab": {
     "base_uri": "https://localhost:8080/"
    },
    "id": "639b5b3a",
    "outputId": "4fdc1943-40ab-4633-d68d-f1d1e7ab3d6f"
   },
   "outputs": [
    {
     "data": {
      "text/plain": [
       "409007"
      ]
     },
     "execution_count": 16,
     "metadata": {},
     "output_type": "execute_result"
    }
   ],
   "source": [
    "tfidf_vectorizer = TfidfVectorizer(ngram_range=(1, 2))\n",
    "X_train_tfidf = tfidf_vectorizer.fit_transform(X_train)\n",
    "X_test_tfidf = tfidf_vectorizer.transform(X_test)\n",
    "\n",
    "len(tfidf_vectorizer.vocabulary_)"
   ]
  },
  {
   "cell_type": "code",
   "execution_count": 17,
   "id": "-MRTSSiD7avV",
   "metadata": {
    "colab": {
     "base_uri": "https://localhost:8080/"
    },
    "id": "-MRTSSiD7avV",
    "outputId": "71917b8f-2935-4fe6-ae82-99b8192fa986"
   },
   "outputs": [
    {
     "data": {
      "text/plain": [
       "((76141, 409007), (32633, 409007))"
      ]
     },
     "execution_count": 17,
     "metadata": {},
     "output_type": "execute_result"
    }
   ],
   "source": [
    "X_train_tfidf.shape, X_test_tfidf.shape"
   ]
  },
  {
   "cell_type": "markdown",
   "id": "f9e5ae6e",
   "metadata": {
    "id": "f9e5ae6e"
   },
   "source": [
    "# Feauture Selection"
   ]
  },
  {
   "cell_type": "code",
   "execution_count": 18,
   "id": "3fa895bb",
   "metadata": {
    "colab": {
     "base_uri": "https://localhost:8080/"
    },
    "id": "3fa895bb",
    "outputId": "c1d57b68-c06c-41e7-d43d-eb8a65898c7a"
   },
   "outputs": [],
   "source": [
    "selector = SelectKBest(chi2, k=1000)\n",
    "X_train_reduc = selector.fit_transform(X_train_tfidf, y_train)\n",
    "X_test_reduc = selector.transform(X_test_tfidf)"
   ]
  },
  {
   "cell_type": "code",
   "execution_count": 19,
   "id": "2e8365a8",
   "metadata": {
    "colab": {
     "base_uri": "https://localhost:8080/"
    },
    "id": "2e8365a8",
    "outputId": "1877345e-a1cc-42ca-876b-743ccf2eb78b"
   },
   "outputs": [],
   "source": [
    "def calculate_correlations_optimized(X, threshold=0.8):\n",
    "    X_dense = X.toarray()\n",
    "    corr_matrix = np.corrcoef(X_dense, rowvar=False)\n",
    "    to_remove = set()\n",
    "    for i in range(corr_matrix.shape[0]):\n",
    "        for j in range(i + 1, corr_matrix.shape[1]):\n",
    "            if corr_matrix[i, j] > threshold:\n",
    "                to_remove.add(j)\n",
    "    return to_remove\n",
    "\n",
    "# Identify highly correlated features\n",
    "features_to_remove = calculate_correlations_optimized(X_train_reduc)\n",
    "\n",
    "# Remove highly correlated features from TF-IDF matrices\n",
    "X_train_tfidf_selected = csr_matrix(np.delete(X_train_reduc.toarray(), list(features_to_remove), axis=1))\n",
    "X_test_tfidf_selected = csr_matrix(np.delete(X_test_reduc.toarray(), list(features_to_remove), axis=1))\n"
   ]
  },
  {
   "cell_type": "code",
   "execution_count": 20,
   "id": "f7346262",
   "metadata": {
    "colab": {
     "base_uri": "https://localhost:8080/"
    },
    "id": "f7346262",
    "outputId": "ff7d6814-4491-496e-a3c7-49e9a16b7832"
   },
   "outputs": [
    {
     "name": "stdout",
     "output_type": "stream",
     "text": [
      "Shape of X_train_tfidf_selected: (76141, 852)\n",
      "Shape of X_test_tfidf_selected: (32633, 852)\n"
     ]
    }
   ],
   "source": [
    "print(f'Shape of X_train_tfidf_selected: {X_train_tfidf_selected.shape}')\n",
    "print(f'Shape of X_test_tfidf_selected: {X_test_tfidf_selected.shape}')"
   ]
  },
  {
   "cell_type": "markdown",
   "id": "ZRTJYE5n85Kd",
   "metadata": {
    "id": "ZRTJYE5n85Kd"
   },
   "source": [
    "# Random Forest"
   ]
  },
  {
   "cell_type": "code",
   "execution_count": 21,
   "id": "8F4c1Ao49FKB",
   "metadata": {
    "id": "8F4c1Ao49FKB"
   },
   "outputs": [],
   "source": [
    "parameters = {\n",
    "    'n_estimators': randint(50, 400),\n",
    "    'max_depth': randint(1, 20),\n",
    "    'min_samples_split': randint(2, 10),\n",
    "    'min_samples_leaf': randint(1, 10),\n",
    "    'max_samples': uniform(0.1, 0.9),\n",
    "    'max_features': uniform(0.1, 0.9)\n",
    "}"
   ]
  },
  {
   "cell_type": "code",
   "execution_count": 22,
   "id": "x01dCTmgtNVD",
   "metadata": {
    "id": "x01dCTmgtNVD"
   },
   "outputs": [],
   "source": [
    "rf_clf = RandomForestClassifier()"
   ]
  },
  {
   "cell_type": "code",
   "execution_count": 26,
   "id": "HuSMFGiN9FiF",
   "metadata": {
    "colab": {
     "base_uri": "https://localhost:8080/",
     "height": 116
    },
    "id": "HuSMFGiN9FiF",
    "outputId": "11511a03-6de2-41b2-d3c2-26a3fba812ed"
   },
   "outputs": [
    {
     "data": {
      "text/html": [
       "<style>#sk-container-id-1 {color: black;}#sk-container-id-1 pre{padding: 0;}#sk-container-id-1 div.sk-toggleable {background-color: white;}#sk-container-id-1 label.sk-toggleable__label {cursor: pointer;display: block;width: 100%;margin-bottom: 0;padding: 0.3em;box-sizing: border-box;text-align: center;}#sk-container-id-1 label.sk-toggleable__label-arrow:before {content: \"▸\";float: left;margin-right: 0.25em;color: #696969;}#sk-container-id-1 label.sk-toggleable__label-arrow:hover:before {color: black;}#sk-container-id-1 div.sk-estimator:hover label.sk-toggleable__label-arrow:before {color: black;}#sk-container-id-1 div.sk-toggleable__content {max-height: 0;max-width: 0;overflow: hidden;text-align: left;background-color: #f0f8ff;}#sk-container-id-1 div.sk-toggleable__content pre {margin: 0.2em;color: black;border-radius: 0.25em;background-color: #f0f8ff;}#sk-container-id-1 input.sk-toggleable__control:checked~div.sk-toggleable__content {max-height: 200px;max-width: 100%;overflow: auto;}#sk-container-id-1 input.sk-toggleable__control:checked~label.sk-toggleable__label-arrow:before {content: \"▾\";}#sk-container-id-1 div.sk-estimator input.sk-toggleable__control:checked~label.sk-toggleable__label {background-color: #d4ebff;}#sk-container-id-1 div.sk-label input.sk-toggleable__control:checked~label.sk-toggleable__label {background-color: #d4ebff;}#sk-container-id-1 input.sk-hidden--visually {border: 0;clip: rect(1px 1px 1px 1px);clip: rect(1px, 1px, 1px, 1px);height: 1px;margin: -1px;overflow: hidden;padding: 0;position: absolute;width: 1px;}#sk-container-id-1 div.sk-estimator {font-family: monospace;background-color: #f0f8ff;border: 1px dotted black;border-radius: 0.25em;box-sizing: border-box;margin-bottom: 0.5em;}#sk-container-id-1 div.sk-estimator:hover {background-color: #d4ebff;}#sk-container-id-1 div.sk-parallel-item::after {content: \"\";width: 100%;border-bottom: 1px solid gray;flex-grow: 1;}#sk-container-id-1 div.sk-label:hover label.sk-toggleable__label {background-color: #d4ebff;}#sk-container-id-1 div.sk-serial::before {content: \"\";position: absolute;border-left: 1px solid gray;box-sizing: border-box;top: 0;bottom: 0;left: 50%;z-index: 0;}#sk-container-id-1 div.sk-serial {display: flex;flex-direction: column;align-items: center;background-color: white;padding-right: 0.2em;padding-left: 0.2em;position: relative;}#sk-container-id-1 div.sk-item {position: relative;z-index: 1;}#sk-container-id-1 div.sk-parallel {display: flex;align-items: stretch;justify-content: center;background-color: white;position: relative;}#sk-container-id-1 div.sk-item::before, #sk-container-id-1 div.sk-parallel-item::before {content: \"\";position: absolute;border-left: 1px solid gray;box-sizing: border-box;top: 0;bottom: 0;left: 50%;z-index: -1;}#sk-container-id-1 div.sk-parallel-item {display: flex;flex-direction: column;z-index: 1;position: relative;background-color: white;}#sk-container-id-1 div.sk-parallel-item:first-child::after {align-self: flex-end;width: 50%;}#sk-container-id-1 div.sk-parallel-item:last-child::after {align-self: flex-start;width: 50%;}#sk-container-id-1 div.sk-parallel-item:only-child::after {width: 0;}#sk-container-id-1 div.sk-dashed-wrapped {border: 1px dashed gray;margin: 0 0.4em 0.5em 0.4em;box-sizing: border-box;padding-bottom: 0.4em;background-color: white;}#sk-container-id-1 div.sk-label label {font-family: monospace;font-weight: bold;display: inline-block;line-height: 1.2em;}#sk-container-id-1 div.sk-label-container {text-align: center;}#sk-container-id-1 div.sk-container {/* jupyter's `normalize.less` sets `[hidden] { display: none; }` but bootstrap.min.css set `[hidden] { display: none !important; }` so we also need the `!important` here to be able to override the default hidden behavior on the sphinx rendered scikit-learn.org. See: https://github.com/scikit-learn/scikit-learn/issues/21755 */display: inline-block !important;position: relative;}#sk-container-id-1 div.sk-text-repr-fallback {display: none;}</style><div id=\"sk-container-id-1\" class=\"sk-top-container\"><div class=\"sk-text-repr-fallback\"><pre>RandomizedSearchCV(cv=3, estimator=RandomForestClassifier(), n_iter=20,\n",
       "                   n_jobs=-1,\n",
       "                   param_distributions={&#x27;max_depth&#x27;: &lt;scipy.stats._distn_infrastructure.rv_discrete_frozen object at 0x16335b850&gt;,\n",
       "                                        &#x27;max_features&#x27;: &lt;scipy.stats._distn_infrastructure.rv_continuous_frozen object at 0x17aed36d0&gt;,\n",
       "                                        &#x27;max_samples&#x27;: &lt;scipy.stats._distn_infrastructure.rv_continuous_frozen object at 0x17b0b2410&gt;,\n",
       "                                        &#x27;min_samples_leaf&#x27;: &lt;scipy.stats._distn_infrastructure.rv_discrete_frozen object at 0x17c0f1890&gt;,\n",
       "                                        &#x27;min_samples_split&#x27;: &lt;scipy.stats._distn_infrastructure.rv_discrete_frozen object at 0x17c23ea10&gt;,\n",
       "                                        &#x27;n_estimators&#x27;: &lt;scipy.stats._distn_infrastructure.rv_discrete_frozen object at 0x17bc65410&gt;},\n",
       "                   scoring=make_scorer(balanced_accuracy_score))</pre><b>In a Jupyter environment, please rerun this cell to show the HTML representation or trust the notebook. <br />On GitHub, the HTML representation is unable to render, please try loading this page with nbviewer.org.</b></div><div class=\"sk-container\" hidden><div class=\"sk-item sk-dashed-wrapped\"><div class=\"sk-label-container\"><div class=\"sk-label sk-toggleable\"><input class=\"sk-toggleable__control sk-hidden--visually\" id=\"sk-estimator-id-1\" type=\"checkbox\" ><label for=\"sk-estimator-id-1\" class=\"sk-toggleable__label sk-toggleable__label-arrow\">RandomizedSearchCV</label><div class=\"sk-toggleable__content\"><pre>RandomizedSearchCV(cv=3, estimator=RandomForestClassifier(), n_iter=20,\n",
       "                   n_jobs=-1,\n",
       "                   param_distributions={&#x27;max_depth&#x27;: &lt;scipy.stats._distn_infrastructure.rv_discrete_frozen object at 0x16335b850&gt;,\n",
       "                                        &#x27;max_features&#x27;: &lt;scipy.stats._distn_infrastructure.rv_continuous_frozen object at 0x17aed36d0&gt;,\n",
       "                                        &#x27;max_samples&#x27;: &lt;scipy.stats._distn_infrastructure.rv_continuous_frozen object at 0x17b0b2410&gt;,\n",
       "                                        &#x27;min_samples_leaf&#x27;: &lt;scipy.stats._distn_infrastructure.rv_discrete_frozen object at 0x17c0f1890&gt;,\n",
       "                                        &#x27;min_samples_split&#x27;: &lt;scipy.stats._distn_infrastructure.rv_discrete_frozen object at 0x17c23ea10&gt;,\n",
       "                                        &#x27;n_estimators&#x27;: &lt;scipy.stats._distn_infrastructure.rv_discrete_frozen object at 0x17bc65410&gt;},\n",
       "                   scoring=make_scorer(balanced_accuracy_score))</pre></div></div></div><div class=\"sk-parallel\"><div class=\"sk-parallel-item\"><div class=\"sk-item\"><div class=\"sk-label-container\"><div class=\"sk-label sk-toggleable\"><input class=\"sk-toggleable__control sk-hidden--visually\" id=\"sk-estimator-id-2\" type=\"checkbox\" ><label for=\"sk-estimator-id-2\" class=\"sk-toggleable__label sk-toggleable__label-arrow\">estimator: RandomForestClassifier</label><div class=\"sk-toggleable__content\"><pre>RandomForestClassifier()</pre></div></div></div><div class=\"sk-serial\"><div class=\"sk-item\"><div class=\"sk-estimator sk-toggleable\"><input class=\"sk-toggleable__control sk-hidden--visually\" id=\"sk-estimator-id-3\" type=\"checkbox\" ><label for=\"sk-estimator-id-3\" class=\"sk-toggleable__label sk-toggleable__label-arrow\">RandomForestClassifier</label><div class=\"sk-toggleable__content\"><pre>RandomForestClassifier()</pre></div></div></div></div></div></div></div></div></div></div>"
      ],
      "text/plain": [
       "RandomizedSearchCV(cv=3, estimator=RandomForestClassifier(), n_iter=20,\n",
       "                   n_jobs=-1,\n",
       "                   param_distributions={'max_depth': <scipy.stats._distn_infrastructure.rv_discrete_frozen object at 0x16335b850>,\n",
       "                                        'max_features': <scipy.stats._distn_infrastructure.rv_continuous_frozen object at 0x17aed36d0>,\n",
       "                                        'max_samples': <scipy.stats._distn_infrastructure.rv_continuous_frozen object at 0x17b0b2410>,\n",
       "                                        'min_samples_leaf': <scipy.stats._distn_infrastructure.rv_discrete_frozen object at 0x17c0f1890>,\n",
       "                                        'min_samples_split': <scipy.stats._distn_infrastructure.rv_discrete_frozen object at 0x17c23ea10>,\n",
       "                                        'n_estimators': <scipy.stats._distn_infrastructure.rv_discrete_frozen object at 0x17bc65410>},\n",
       "                   scoring=make_scorer(balanced_accuracy_score))"
      ]
     },
     "execution_count": 26,
     "metadata": {},
     "output_type": "execute_result"
    }
   ],
   "source": [
    "random_search2 =RandomizedSearchCV(rf_clf, parameters, n_jobs = -1, cv = 3, n_iter = 20, scoring = make_scorer(balanced_accuracy_score))\n",
    "random_search2.fit(X_train_tfidf_selected, y_train)"
   ]
  },
  {
   "cell_type": "code",
   "execution_count": 27,
   "id": "t-cL5NsY9rUr",
   "metadata": {
    "colab": {
     "base_uri": "https://localhost:8080/"
    },
    "id": "t-cL5NsY9rUr",
    "outputId": "24ac2640-504d-41e4-f309-e2596e8d13bc"
   },
   "outputs": [
    {
     "name": "stdout",
     "output_type": "stream",
     "text": [
      "{'max_depth': 19, 'max_features': 0.10863713979606356, 'max_samples': 0.32967000949464453, 'min_samples_leaf': 7, 'min_samples_split': 2, 'n_estimators': 123}\n",
      "0.38610232953508516\n"
     ]
    }
   ],
   "source": [
    "print(random_search2.best_params_)\n",
    "print(random_search2.best_score_)"
   ]
  },
  {
   "cell_type": "code",
   "execution_count": 28,
   "id": "75rXZCo897DF",
   "metadata": {
    "colab": {
     "base_uri": "https://localhost:8080/"
    },
    "id": "75rXZCo897DF",
    "outputId": "f1dd3c04-8347-4d54-cbaf-33765d7796e8"
   },
   "outputs": [
    {
     "name": "stdout",
     "output_type": "stream",
     "text": [
      "0.4057242668464438\n"
     ]
    }
   ],
   "source": [
    "random_search_best2 = random_search2.best_estimator_\n",
    "accur2 = random_search_best2.score(X_test_tfidf_selected, y_test)\n",
    "print(accur2)"
   ]
  },
  {
   "cell_type": "code",
   "execution_count": 29,
   "id": "8981541b",
   "metadata": {},
   "outputs": [
    {
     "name": "stdout",
     "output_type": "stream",
     "text": [
      "10-fold cross-validation Balanced Accuracy-score: 0.3867378749318577\n"
     ]
    }
   ],
   "source": [
    "cv = StratifiedKFold(n_splits=10)\n",
    "cv_results = cross_val_score(random_search_best2, X_train_tfidf_selected, y_train, cv=cv, scoring=make_scorer(balanced_accuracy_score))\n",
    "print(f'10-fold cross-validation Balanced Accuracy-score: {np.mean(cv_results)}')"
   ]
  },
  {
   "cell_type": "code",
   "execution_count": 36,
   "id": "hmv8stos_tK7",
   "metadata": {
    "colab": {
     "base_uri": "https://localhost:8080/"
    },
    "id": "hmv8stos_tK7",
    "outputId": "3f0a84a8-81a3-4113-f04d-689bf2dfc0a7"
   },
   "outputs": [
    {
     "name": "stdout",
     "output_type": "stream",
     "text": [
      "               precision    recall  f1-score   support\n",
      "\n",
      "     BUSINESS       0.86      0.31      0.46      4419\n",
      "ENTERTAINMENT       0.21      0.93      0.34      4488\n",
      "       HEALTH       0.54      0.66      0.59      4466\n",
      "       NATION       0.69      0.04      0.08      4412\n",
      "      SCIENCE       0.92      0.19      0.32      1144\n",
      "       SPORTS       0.90      0.37      0.52      4551\n",
      "   TECHNOLOGY       0.83      0.39      0.53      4558\n",
      "        WORLD       0.76      0.20      0.31      4595\n",
      "\n",
      "     accuracy                           0.41     32633\n",
      "    macro avg       0.71      0.39      0.39     32633\n",
      " weighted avg       0.69      0.41      0.40     32633\n",
      "\n",
      "Balanced Accuracy:  0.3859320950736679\n"
     ]
    }
   ],
   "source": [
    "test_predictions = random_search_best2.predict(X_test_tfidf_selected)\n",
    "bal_acc=balanced_accuracy_score(y_test, test_predictions)\n",
    "report = classification_report(y_test, test_predictions, target_names=label_encoder.classes_)\n",
    "print(report)\n",
    "print(\"Balanced Accuracy: \", bal_acc)"
   ]
  },
  {
   "cell_type": "code",
   "execution_count": null,
   "id": "4307ce89",
   "metadata": {},
   "outputs": [],
   "source": []
  }
 ],
 "metadata": {
  "colab": {
   "provenance": []
  },
  "kernelspec": {
   "display_name": "Python 3 (ipykernel)",
   "language": "python",
   "name": "python3"
  },
  "language_info": {
   "codemirror_mode": {
    "name": "ipython",
    "version": 3
   },
   "file_extension": ".py",
   "mimetype": "text/x-python",
   "name": "python",
   "nbconvert_exporter": "python",
   "pygments_lexer": "ipython3",
   "version": "3.11.5"
  }
 },
 "nbformat": 4,
 "nbformat_minor": 5
}
