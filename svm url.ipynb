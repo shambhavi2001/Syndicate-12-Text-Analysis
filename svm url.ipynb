{
 "cells": [
  {
   "cell_type": "code",
   "execution_count": 1,
   "id": "5c413deb",
   "metadata": {
    "colab": {
     "base_uri": "https://localhost:8080/"
    },
    "id": "5c413deb",
    "outputId": "89cb6be1-ad71-486b-c935-06fafcc28a1d"
   },
   "outputs": [
    {
     "name": "stderr",
     "output_type": "stream",
     "text": [
      "[nltk_data] Downloading package punkt to\n",
      "[nltk_data]     /Users/chamilkaudugoda/nltk_data...\n",
      "[nltk_data]   Package punkt is already up-to-date!\n",
      "[nltk_data] Downloading package stopwords to\n",
      "[nltk_data]     /Users/chamilkaudugoda/nltk_data...\n",
      "[nltk_data]   Package stopwords is already up-to-date!\n",
      "[nltk_data] Downloading package wordnet to\n",
      "[nltk_data]     /Users/chamilkaudugoda/nltk_data...\n",
      "[nltk_data]   Package wordnet is already up-to-date!\n"
     ]
    }
   ],
   "source": [
    "import nltk\n",
    "import string\n",
    "import pandas as pd\n",
    "import numpy as np\n",
    "\n",
    "from nltk.tokenize import TreebankWordTokenizer\n",
    "from nltk.corpus import stopwords\n",
    "from nltk.stem import WordNetLemmatizer\n",
    "from sklearn.feature_extraction.text import TfidfVectorizer, CountVectorizer\n",
    "from sklearn.feature_selection import mutual_info_classif, chi2, SelectKBest\n",
    "from sklearn.model_selection import cross_val_score, StratifiedKFold\n",
    "from sklearn.preprocessing import LabelEncoder\n",
    "from sklearn.svm import SVC\n",
    "from sklearn.feature_selection import mutual_info_classif, SelectKBest\n",
    "from sklearn.model_selection import train_test_split\n",
    "from sklearn.preprocessing import LabelEncoder\n",
    "from scipy.stats import pearsonr\n",
    "\n",
    "nltk.download('punkt')\n",
    "nltk.download('stopwords')\n",
    "nltk.download('wordnet')\n",
    "\n",
    "tokenizer = TreebankWordTokenizer()\n",
    "lemmatizer = WordNetLemmatizer()\n",
    "stop_words = set(stopwords.words('english'))\n",
    "tfidf_vectorizer = TfidfVectorizer(ngram_range=(1, 2))\n",
    "count_vectorizer = CountVectorizer()\n",
    "label_encoder = LabelEncoder()"
   ]
  },
  {
   "cell_type": "code",
   "execution_count": 2,
   "id": "xekZqqDmh_eh",
   "metadata": {
    "id": "xekZqqDmh_eh"
   },
   "outputs": [],
   "source": [
    "from sklearn.model_selection import RandomizedSearchCV\n",
    "from sklearn.svm import SVC\n",
    "from sklearn.ensemble import RandomForestClassifier\n",
    "from scipy.stats import uniform, randint\n",
    "from sklearn.metrics import classification_report, accuracy_score, make_scorer, f1_score, balanced_accuracy_score\n",
    "import joblib\n",
    "from scipy.sparse import csr_matrix"
   ]
  },
  {
   "cell_type": "code",
   "execution_count": 5,
   "id": "d37dbd30",
   "metadata": {
    "id": "d37dbd30"
   },
   "outputs": [],
   "source": [
    "df = pd.read_csv('/Users/chamilkaudugoda/Documents/Master of Business Analytics/Module 3/Text Analytics for Business/Project/labelled_newscatcher_dataset.csv', delimiter=';')\n",
    "corpus = list(df['link'])\n",
    "labels = list(df['topic'])\n",
    "y = label_encoder.fit_transform(labels)"
   ]
  },
  {
   "cell_type": "markdown",
   "id": "f4d112f0",
   "metadata": {
    "id": "f4d112f0"
   },
   "source": [
    "# Data Pre-processing"
   ]
  },
  {
   "cell_type": "code",
   "execution_count": 6,
   "id": "ca27b9ed",
   "metadata": {
    "colab": {
     "base_uri": "https://localhost:8080/"
    },
    "id": "ca27b9ed",
    "outputId": "3052fb39-1b9e-41b7-c49a-db6dd4a0a6b7"
   },
   "outputs": [
    {
     "name": "stdout",
     "output_type": "stream",
     "text": [
      "Unique labels: [0 1 2 3 4 5 6 7]\n"
     ]
    }
   ],
   "source": [
    "def preprocess_text(text):\n",
    "    tokens = tokenizer.tokenize(text)\n",
    "    tokens = [word.lower() for word in tokens if word not in string.punctuation]\n",
    "    tokens = [word for word in tokens if word not in stop_words]\n",
    "    tokens = [lemmatizer.lemmatize(word) for word in tokens]\n",
    "    return ' '.join(tokens)\n",
    "\n",
    "corpus_norm = [preprocess_text(title) for title in corpus]\n",
    "\n",
    "X_train, X_test, y_train, y_test = train_test_split(corpus_norm, y, train_size=0.7, random_state=42)\n",
    "print(f'Unique labels: {np.unique(y_train)}')"
   ]
  },
  {
   "cell_type": "markdown",
   "id": "0a869081",
   "metadata": {
    "id": "0a869081"
   },
   "source": [
    "# Feature Extraction"
   ]
  },
  {
   "cell_type": "code",
   "execution_count": 7,
   "id": "639b5b3a",
   "metadata": {
    "colab": {
     "base_uri": "https://localhost:8080/"
    },
    "id": "639b5b3a",
    "outputId": "efde5b46-a021-4e01-cc3d-bab2fb8cc7e1"
   },
   "outputs": [
    {
     "data": {
      "text/plain": [
       "579907"
      ]
     },
     "execution_count": 7,
     "metadata": {},
     "output_type": "execute_result"
    }
   ],
   "source": [
    "tfidf_vectorizer = TfidfVectorizer(ngram_range=(1, 2))\n",
    "X_train_tfidf = tfidf_vectorizer.fit_transform(X_train)\n",
    "X_test_tfidf = tfidf_vectorizer.transform(X_test)\n",
    "\n",
    "len(tfidf_vectorizer.vocabulary_)"
   ]
  },
  {
   "cell_type": "markdown",
   "id": "f9e5ae6e",
   "metadata": {
    "id": "f9e5ae6e"
   },
   "source": [
    "# Feauture Selection"
   ]
  },
  {
   "cell_type": "code",
   "execution_count": 8,
   "id": "3fa895bb",
   "metadata": {
    "colab": {
     "base_uri": "https://localhost:8080/"
    },
    "id": "3fa895bb",
    "outputId": "da56b968-f537-4717-ef7b-4dd5fce9d9ec"
   },
   "outputs": [],
   "source": [
    "selector = SelectKBest(chi2, k=1000)\n",
    "X_train_reduc = selector.fit_transform(X_train_tfidf, y_train)\n",
    "X_test_reduc = selector.transform(X_test_tfidf)"
   ]
  },
  {
   "cell_type": "code",
   "execution_count": 9,
   "id": "2e8365a8",
   "metadata": {
    "colab": {
     "base_uri": "https://localhost:8080/"
    },
    "id": "2e8365a8",
    "outputId": "3c9363ff-0d3b-49b5-a0a4-29411acfafb5"
   },
   "outputs": [],
   "source": [
    "def calculate_correlations_optimized(X, threshold=0.8):\n",
    "    X_dense = X.toarray()\n",
    "    corr_matrix = np.corrcoef(X_dense, rowvar=False)\n",
    "    to_remove = set()\n",
    "    for i in range(corr_matrix.shape[0]):\n",
    "        for j in range(i + 1, corr_matrix.shape[1]):\n",
    "            if corr_matrix[i, j] > threshold:\n",
    "                to_remove.add(j)\n",
    "    return to_remove\n",
    "\n",
    "# Identify highly correlated features\n",
    "features_to_remove = calculate_correlations_optimized(X_train_reduc)\n",
    "\n",
    "# Remove highly correlated features from TF-IDF matrices\n",
    "X_train_tfidf_selected = csr_matrix(np.delete(X_train_reduc.toarray(), list(features_to_remove), axis=1))\n",
    "X_test_tfidf_selected = csr_matrix(np.delete(X_test_reduc.toarray(), list(features_to_remove), axis=1))"
   ]
  },
  {
   "cell_type": "code",
   "execution_count": 10,
   "id": "NEH8Qv3Mulho",
   "metadata": {
    "colab": {
     "base_uri": "https://localhost:8080/"
    },
    "id": "NEH8Qv3Mulho",
    "outputId": "18612369-d26c-4713-8faa-5be7b6a33f11"
   },
   "outputs": [
    {
     "name": "stdout",
     "output_type": "stream",
     "text": [
      "Shape of X_train_tfidf_selected: (76141, 694)\n",
      "Shape of X_test_tfidf_selected: (32633, 694)\n"
     ]
    }
   ],
   "source": [
    "print(f'Shape of X_train_tfidf_selected: {X_train_tfidf_selected.shape}')\n",
    "print(f'Shape of X_test_tfidf_selected: {X_test_tfidf_selected.shape}')"
   ]
  },
  {
   "cell_type": "markdown",
   "id": "5fz8FUdnwlB7",
   "metadata": {
    "id": "5fz8FUdnwlB7"
   },
   "source": [
    "# SVM with Parameter Tuning\n"
   ]
  },
  {
   "cell_type": "code",
   "execution_count": 11,
   "id": "yXm2RrIdwjyh",
   "metadata": {
    "id": "yXm2RrIdwjyh"
   },
   "outputs": [],
   "source": [
    "# Parameter grid for SVM\n",
    "svm_param_grid = {\n",
    "    'C': np.logspace(-3, 3, 10),\n",
    "    'kernel': ['linear', 'rbf'],\n",
    "    'gamma': np.logspace(-3, 3, 10)\n",
    "}"
   ]
  },
  {
   "cell_type": "code",
   "execution_count": 12,
   "id": "MW1vmEeOVfz4",
   "metadata": {
    "id": "MW1vmEeOVfz4"
   },
   "outputs": [],
   "source": [
    "# Initialize SVM with One-vs-Rest approach\n",
    "svm_clf = SVC(decision_function_shape='ovr')"
   ]
  },
  {
   "cell_type": "code",
   "execution_count": 13,
   "id": "iSu2UdgPVklD",
   "metadata": {
    "colab": {
     "base_uri": "https://localhost:8080/",
     "height": 133
    },
    "id": "iSu2UdgPVklD",
    "outputId": "6f6a592e-0fc7-4d6f-cdd9-46aadfc06109"
   },
   "outputs": [
    {
     "name": "stdout",
     "output_type": "stream",
     "text": [
      "Fitting 3 folds for each of 20 candidates, totalling 60 fits\n"
     ]
    },
    {
     "data": {
      "text/html": [
       "<style>#sk-container-id-1 {color: black;}#sk-container-id-1 pre{padding: 0;}#sk-container-id-1 div.sk-toggleable {background-color: white;}#sk-container-id-1 label.sk-toggleable__label {cursor: pointer;display: block;width: 100%;margin-bottom: 0;padding: 0.3em;box-sizing: border-box;text-align: center;}#sk-container-id-1 label.sk-toggleable__label-arrow:before {content: \"▸\";float: left;margin-right: 0.25em;color: #696969;}#sk-container-id-1 label.sk-toggleable__label-arrow:hover:before {color: black;}#sk-container-id-1 div.sk-estimator:hover label.sk-toggleable__label-arrow:before {color: black;}#sk-container-id-1 div.sk-toggleable__content {max-height: 0;max-width: 0;overflow: hidden;text-align: left;background-color: #f0f8ff;}#sk-container-id-1 div.sk-toggleable__content pre {margin: 0.2em;color: black;border-radius: 0.25em;background-color: #f0f8ff;}#sk-container-id-1 input.sk-toggleable__control:checked~div.sk-toggleable__content {max-height: 200px;max-width: 100%;overflow: auto;}#sk-container-id-1 input.sk-toggleable__control:checked~label.sk-toggleable__label-arrow:before {content: \"▾\";}#sk-container-id-1 div.sk-estimator input.sk-toggleable__control:checked~label.sk-toggleable__label {background-color: #d4ebff;}#sk-container-id-1 div.sk-label input.sk-toggleable__control:checked~label.sk-toggleable__label {background-color: #d4ebff;}#sk-container-id-1 input.sk-hidden--visually {border: 0;clip: rect(1px 1px 1px 1px);clip: rect(1px, 1px, 1px, 1px);height: 1px;margin: -1px;overflow: hidden;padding: 0;position: absolute;width: 1px;}#sk-container-id-1 div.sk-estimator {font-family: monospace;background-color: #f0f8ff;border: 1px dotted black;border-radius: 0.25em;box-sizing: border-box;margin-bottom: 0.5em;}#sk-container-id-1 div.sk-estimator:hover {background-color: #d4ebff;}#sk-container-id-1 div.sk-parallel-item::after {content: \"\";width: 100%;border-bottom: 1px solid gray;flex-grow: 1;}#sk-container-id-1 div.sk-label:hover label.sk-toggleable__label {background-color: #d4ebff;}#sk-container-id-1 div.sk-serial::before {content: \"\";position: absolute;border-left: 1px solid gray;box-sizing: border-box;top: 0;bottom: 0;left: 50%;z-index: 0;}#sk-container-id-1 div.sk-serial {display: flex;flex-direction: column;align-items: center;background-color: white;padding-right: 0.2em;padding-left: 0.2em;position: relative;}#sk-container-id-1 div.sk-item {position: relative;z-index: 1;}#sk-container-id-1 div.sk-parallel {display: flex;align-items: stretch;justify-content: center;background-color: white;position: relative;}#sk-container-id-1 div.sk-item::before, #sk-container-id-1 div.sk-parallel-item::before {content: \"\";position: absolute;border-left: 1px solid gray;box-sizing: border-box;top: 0;bottom: 0;left: 50%;z-index: -1;}#sk-container-id-1 div.sk-parallel-item {display: flex;flex-direction: column;z-index: 1;position: relative;background-color: white;}#sk-container-id-1 div.sk-parallel-item:first-child::after {align-self: flex-end;width: 50%;}#sk-container-id-1 div.sk-parallel-item:last-child::after {align-self: flex-start;width: 50%;}#sk-container-id-1 div.sk-parallel-item:only-child::after {width: 0;}#sk-container-id-1 div.sk-dashed-wrapped {border: 1px dashed gray;margin: 0 0.4em 0.5em 0.4em;box-sizing: border-box;padding-bottom: 0.4em;background-color: white;}#sk-container-id-1 div.sk-label label {font-family: monospace;font-weight: bold;display: inline-block;line-height: 1.2em;}#sk-container-id-1 div.sk-label-container {text-align: center;}#sk-container-id-1 div.sk-container {/* jupyter's `normalize.less` sets `[hidden] { display: none; }` but bootstrap.min.css set `[hidden] { display: none !important; }` so we also need the `!important` here to be able to override the default hidden behavior on the sphinx rendered scikit-learn.org. See: https://github.com/scikit-learn/scikit-learn/issues/21755 */display: inline-block !important;position: relative;}#sk-container-id-1 div.sk-text-repr-fallback {display: none;}</style><div id=\"sk-container-id-1\" class=\"sk-top-container\"><div class=\"sk-text-repr-fallback\"><pre>RandomizedSearchCV(cv=3, estimator=SVC(), n_iter=20, n_jobs=-1,\n",
       "                   param_distributions={&#x27;C&#x27;: array([1.00000000e-03, 4.64158883e-03, 2.15443469e-02, 1.00000000e-01,\n",
       "       4.64158883e-01, 2.15443469e+00, 1.00000000e+01, 4.64158883e+01,\n",
       "       2.15443469e+02, 1.00000000e+03]),\n",
       "                                        &#x27;gamma&#x27;: array([1.00000000e-03, 4.64158883e-03, 2.15443469e-02, 1.00000000e-01,\n",
       "       4.64158883e-01, 2.15443469e+00, 1.00000000e+01, 4.64158883e+01,\n",
       "       2.15443469e+02, 1.00000000e+03]),\n",
       "                                        &#x27;kernel&#x27;: [&#x27;linear&#x27;, &#x27;rbf&#x27;]},\n",
       "                   random_state=42,\n",
       "                   scoring=make_scorer(balanced_accuracy_score), verbose=1)</pre><b>In a Jupyter environment, please rerun this cell to show the HTML representation or trust the notebook. <br />On GitHub, the HTML representation is unable to render, please try loading this page with nbviewer.org.</b></div><div class=\"sk-container\" hidden><div class=\"sk-item sk-dashed-wrapped\"><div class=\"sk-label-container\"><div class=\"sk-label sk-toggleable\"><input class=\"sk-toggleable__control sk-hidden--visually\" id=\"sk-estimator-id-1\" type=\"checkbox\" ><label for=\"sk-estimator-id-1\" class=\"sk-toggleable__label sk-toggleable__label-arrow\">RandomizedSearchCV</label><div class=\"sk-toggleable__content\"><pre>RandomizedSearchCV(cv=3, estimator=SVC(), n_iter=20, n_jobs=-1,\n",
       "                   param_distributions={&#x27;C&#x27;: array([1.00000000e-03, 4.64158883e-03, 2.15443469e-02, 1.00000000e-01,\n",
       "       4.64158883e-01, 2.15443469e+00, 1.00000000e+01, 4.64158883e+01,\n",
       "       2.15443469e+02, 1.00000000e+03]),\n",
       "                                        &#x27;gamma&#x27;: array([1.00000000e-03, 4.64158883e-03, 2.15443469e-02, 1.00000000e-01,\n",
       "       4.64158883e-01, 2.15443469e+00, 1.00000000e+01, 4.64158883e+01,\n",
       "       2.15443469e+02, 1.00000000e+03]),\n",
       "                                        &#x27;kernel&#x27;: [&#x27;linear&#x27;, &#x27;rbf&#x27;]},\n",
       "                   random_state=42,\n",
       "                   scoring=make_scorer(balanced_accuracy_score), verbose=1)</pre></div></div></div><div class=\"sk-parallel\"><div class=\"sk-parallel-item\"><div class=\"sk-item\"><div class=\"sk-label-container\"><div class=\"sk-label sk-toggleable\"><input class=\"sk-toggleable__control sk-hidden--visually\" id=\"sk-estimator-id-2\" type=\"checkbox\" ><label for=\"sk-estimator-id-2\" class=\"sk-toggleable__label sk-toggleable__label-arrow\">estimator: SVC</label><div class=\"sk-toggleable__content\"><pre>SVC()</pre></div></div></div><div class=\"sk-serial\"><div class=\"sk-item\"><div class=\"sk-estimator sk-toggleable\"><input class=\"sk-toggleable__control sk-hidden--visually\" id=\"sk-estimator-id-3\" type=\"checkbox\" ><label for=\"sk-estimator-id-3\" class=\"sk-toggleable__label sk-toggleable__label-arrow\">SVC</label><div class=\"sk-toggleable__content\"><pre>SVC()</pre></div></div></div></div></div></div></div></div></div></div>"
      ],
      "text/plain": [
       "RandomizedSearchCV(cv=3, estimator=SVC(), n_iter=20, n_jobs=-1,\n",
       "                   param_distributions={'C': array([1.00000000e-03, 4.64158883e-03, 2.15443469e-02, 1.00000000e-01,\n",
       "       4.64158883e-01, 2.15443469e+00, 1.00000000e+01, 4.64158883e+01,\n",
       "       2.15443469e+02, 1.00000000e+03]),\n",
       "                                        'gamma': array([1.00000000e-03, 4.64158883e-03, 2.15443469e-02, 1.00000000e-01,\n",
       "       4.64158883e-01, 2.15443469e+00, 1.00000000e+01, 4.64158883e+01,\n",
       "       2.15443469e+02, 1.00000000e+03]),\n",
       "                                        'kernel': ['linear', 'rbf']},\n",
       "                   random_state=42,\n",
       "                   scoring=make_scorer(balanced_accuracy_score), verbose=1)"
      ]
     },
     "execution_count": 13,
     "metadata": {},
     "output_type": "execute_result"
    }
   ],
   "source": [
    "# RandomizedSearchCV for SVM\n",
    "svm_random_search = RandomizedSearchCV(svm_clf, param_distributions=svm_param_grid, scoring = make_scorer(balanced_accuracy_score), n_iter=20, cv=3, verbose=1, random_state=42, n_jobs=-1)\n",
    "svm_random_search.fit(X_train_tfidf_selected, y_train)"
   ]
  },
  {
   "cell_type": "code",
   "execution_count": 14,
   "id": "OFl12FnFVCb0",
   "metadata": {
    "colab": {
     "base_uri": "https://localhost:8080/"
    },
    "id": "OFl12FnFVCb0",
    "outputId": "d8f016f0-c582-4db1-9bda-773fd21a70d8"
   },
   "outputs": [
    {
     "name": "stdout",
     "output_type": "stream",
     "text": [
      "{'kernel': 'linear', 'gamma': 2.154434690031882, 'C': 215.44346900318823}\n"
     ]
    }
   ],
   "source": [
    "print(svm_random_search.best_params_)"
   ]
  },
  {
   "cell_type": "code",
   "execution_count": 15,
   "id": "ApkWbJF_WAJv",
   "metadata": {
    "id": "ApkWbJF_WAJv"
   },
   "outputs": [],
   "source": [
    "best_svm = svm_random_search.best_estimator_"
   ]
  },
  {
   "cell_type": "code",
   "execution_count": 16,
   "id": "d16c9246",
   "metadata": {},
   "outputs": [
    {
     "name": "stdout",
     "output_type": "stream",
     "text": [
      "10-fold cross-validation Balanced Accuracy-score: 0.6790130726912766\n"
     ]
    }
   ],
   "source": [
    "cv = StratifiedKFold(n_splits=10)\n",
    "cv_results = cross_val_score(best_svm, X_train_tfidf_selected, y_train, cv=cv, scoring=make_scorer(balanced_accuracy_score))\n",
    "\n",
    "print(f'10-fold cross-validation Balanced Accuracy-score: {np.mean(cv_results)}')"
   ]
  },
  {
   "cell_type": "code",
   "execution_count": 17,
   "id": "ZIePRdB3XS6g",
   "metadata": {
    "id": "ZIePRdB3XS6g"
   },
   "outputs": [],
   "source": [
    "svm_predictions = best_svm.predict(X_test_tfidf_selected)"
   ]
  },
  {
   "cell_type": "code",
   "execution_count": 19,
   "id": "U9aTKfaGmfQe",
   "metadata": {
    "id": "U9aTKfaGmfQe"
   },
   "outputs": [],
   "source": [
    "bal_acc=balanced_accuracy_score(y_test,svm_predictions)"
   ]
  },
  {
   "cell_type": "code",
   "execution_count": 20,
   "id": "cGCefOGyUnLC",
   "metadata": {
    "colab": {
     "base_uri": "https://localhost:8080/"
    },
    "id": "cGCefOGyUnLC",
    "outputId": "0655bf11-e183-45fb-df9b-1459b8c8b548"
   },
   "outputs": [
    {
     "name": "stdout",
     "output_type": "stream",
     "text": [
      "SVM Classification Report:\n",
      "                precision    recall  f1-score   support\n",
      "\n",
      "     BUSINESS       0.74      0.61      0.67      4419\n",
      "ENTERTAINMENT       0.83      0.69      0.75      4488\n",
      "       HEALTH       0.63      0.73      0.67      4466\n",
      "       NATION       0.39      0.73      0.51      4412\n",
      "      SCIENCE       0.83      0.67      0.74      1144\n",
      "       SPORTS       0.92      0.84      0.88      4551\n",
      "   TECHNOLOGY       0.86      0.73      0.79      4558\n",
      "        WORLD       0.70      0.43      0.53      4595\n",
      "\n",
      "     accuracy                           0.68     32633\n",
      "    macro avg       0.74      0.68      0.69     32633\n",
      " weighted avg       0.73      0.68      0.69     32633\n",
      "\n",
      "Balanced Accuracy:  0.6778795172312739\n"
     ]
    }
   ],
   "source": [
    "svm_report = classification_report(y_test, svm_predictions,target_names=label_encoder.classes_)\n",
    "svm_accuracy = accuracy_score(y_test, svm_predictions)\n",
    "print(\"SVM Classification Report:\\n\", svm_report)\n",
    "print(\"Balanced Accuracy: \", bal_acc)"
   ]
  },
  {
   "cell_type": "code",
   "execution_count": null,
   "id": "9660528e",
   "metadata": {},
   "outputs": [],
   "source": []
  }
 ],
 "metadata": {
  "colab": {
   "provenance": []
  },
  "kernelspec": {
   "display_name": "Python 3 (ipykernel)",
   "language": "python",
   "name": "python3"
  },
  "language_info": {
   "codemirror_mode": {
    "name": "ipython",
    "version": 3
   },
   "file_extension": ".py",
   "mimetype": "text/x-python",
   "name": "python",
   "nbconvert_exporter": "python",
   "pygments_lexer": "ipython3",
   "version": "3.11.5"
  }
 },
 "nbformat": 4,
 "nbformat_minor": 5
}
